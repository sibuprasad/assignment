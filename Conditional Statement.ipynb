{
 "cells": [
  {
   "cell_type": "code",
   "execution_count": 1,
   "id": "18edc41d-01dc-46c1-822b-4bb3b2386d3e",
   "metadata": {},
   "outputs": [
    {
     "name": "stdin",
     "output_type": "stream",
     "text": [
      "enter your m 55\n"
     ]
    },
    {
     "name": "stdout",
     "output_type": "stream",
     "text": [
      "Batch A2\n"
     ]
    }
   ],
   "source": [
    "m=int(input(\"enter your m\"))\n",
    "\n",
    "if m >= 80:\n",
    "    print('Batch A0')\n",
    "else:\n",
    "    if m<80 and m>=60:\n",
    "        print('Batch A1')\n",
    "    else:\n",
    "        print('Batch A2')"
   ]
  },
  {
   "cell_type": "code",
   "execution_count": 2,
   "id": "558f6074-c52b-4635-bf80-855d85f7a028",
   "metadata": {},
   "outputs": [
    {
     "name": "stdin",
     "output_type": "stream",
     "text": [
      "enter your m 25\n"
     ]
    },
    {
     "name": "stdout",
     "output_type": "stream",
     "text": [
      "Batch A3\n"
     ]
    }
   ],
   "source": [
    "m=int(input(\"enter your m\"))\n",
    "\n",
    "if m>=80:\n",
    "    print(\"Batch A0\")\n",
    "elif m<80 and m>=60:\n",
    "    print(\"Batch A1\")\n",
    "elif m<60 and m>=40:\n",
    "    print(\"Batch A2\")\n",
    "else:\n",
    "    print(\"Batch A3\")"
   ]
  },
  {
   "cell_type": "code",
   "execution_count": 6,
   "id": "c42ba1e6-9a6a-4a22-a09c-29455c64551a",
   "metadata": {},
   "outputs": [
    {
     "name": "stdin",
     "output_type": "stream",
     "text": [
      "enter price 1111\n"
     ]
    },
    {
     "name": "stdout",
     "output_type": "stream",
     "text": [
      "i'll not buy\n"
     ]
    }
   ],
   "source": [
    "price=int(input(\"enter price\"))\n",
    "\n",
    "if price >1000:\n",
    "    print(\"i'll not buy\")\n",
    "else:\n",
    "    print(\"i'll buy\")"
   ]
  },
  {
   "cell_type": "code",
   "execution_count": 10,
   "id": "d41f9c3d-cf01-4e1f-8ef0-24b345fb6c10",
   "metadata": {},
   "outputs": [
    {
     "name": "stdin",
     "output_type": "stream",
     "text": [
      "enter price 455\n"
     ]
    }
   ],
   "source": [
    "price=int(input(\"enter price\"))\n",
    "\n",
    "if price>500:\n",
    "    print(\"buy it\")"
   ]
  },
  {
   "cell_type": "code",
   "execution_count": 42,
   "id": "cdad3d46-44e5-43a9-8b31-c395683ea3e9",
   "metadata": {},
   "outputs": [
    {
     "name": "stdout",
     "output_type": "stream",
     "text": [
      "[3, 6, 8, 4, 7, 9]\n"
     ]
    }
   ],
   "source": [
    "l=[2,5,7,3,6,8]\n",
    "m=[]\n",
    "for x in l:\n",
    "    a=1\n",
    "    b=str(x)\n",
    "    for y in b:\n",
    "        a=a+int(y)\n",
    "    m.append(a)\n",
    "print(m)"
   ]
  },
  {
   "cell_type": "code",
   "execution_count": 66,
   "id": "70e0b985-3808-425c-b93c-af276eaa8c75",
   "metadata": {},
   "outputs": [
    {
     "name": "stdout",
     "output_type": "stream",
     "text": [
      "[11, 12, 122, 53, 21]\n",
      "[2, 3, 5, 8, 3]\n"
     ]
    }
   ],
   "source": [
    "l=[10,11,121,52,20]\n",
    "m=[]\n",
    "n=[]\n",
    "\n",
    "for x in l:\n",
    "    a=1\n",
    "    a=a+x\n",
    "    m.append(a)\n",
    "    for p in m:\n",
    "        b=0\n",
    "        q=str(p)\n",
    "        for r in q:\n",
    "            b=b+int(r)\n",
    "    n.append(b)\n",
    "print(m)\n",
    "print(n)"
   ]
  },
  {
   "cell_type": "code",
   "execution_count": 72,
   "id": "f3cdbcf0-f45e-4eac-899c-ca808ae9ebec",
   "metadata": {},
   "outputs": [
    {
     "name": "stdout",
     "output_type": "stream",
     "text": [
      "[56, 15, 99, 746, 33]\n"
     ]
    }
   ],
   "source": [
    "l=[55,14,98,745,32]\n",
    "l1=[]\n",
    "for i in l:\n",
    "    l1.append(i+1)\n",
    "print(l1)"
   ]
  },
  {
   "cell_type": "code",
   "execution_count": 74,
   "id": "a346d4a2-2637-401b-905f-ad206e334183",
   "metadata": {},
   "outputs": [
    {
     "name": "stdout",
     "output_type": "stream",
     "text": [
      "[56, 15, 99, 746, 33]\n"
     ]
    }
   ],
   "source": [
    "l=[55,14,98,745,32]\n",
    "l1=[]\n",
    "for i in l:\n",
    "    l1.append(i+1)\n",
    "print(l1)"
   ]
  },
  {
   "cell_type": "code",
   "execution_count": 75,
   "id": "41f1a5b0-d263-41fc-87db-3924ffb9d249",
   "metadata": {},
   "outputs": [
    {
     "data": {
      "text/plain": [
       "[55, 14, 98, 745, 32]"
      ]
     },
     "execution_count": 75,
     "metadata": {},
     "output_type": "execute_result"
    }
   ],
   "source": [
    "l"
   ]
  },
  {
   "cell_type": "code",
   "execution_count": 76,
   "id": "8d3e1591-3fc6-4d9b-a682-18b027d8c1f8",
   "metadata": {},
   "outputs": [
    {
     "data": {
      "text/plain": [
       "int"
      ]
     },
     "execution_count": 76,
     "metadata": {},
     "output_type": "execute_result"
    }
   ],
   "source": [
    "type(l[1])"
   ]
  },
  {
   "cell_type": "code",
   "execution_count": 2,
   "id": "c92fffbd-cab9-4d94-ac09-2dbcda0c8c43",
   "metadata": {},
   "outputs": [
    {
     "name": "stdout",
     "output_type": "stream",
     "text": [
      "[13, 56, 67.89, 413, 101, 202.2, 127, 966.5]\n"
     ]
    }
   ],
   "source": [
    "x=12,55,66.89,412,100,201.200,126,965.5\n",
    "x1=[]\n",
    "for i in x:\n",
    "    x1.append(i+1)\n",
    "print(x1)"
   ]
  },
  {
   "cell_type": "code",
   "execution_count": 4,
   "id": "8b7cfd00-fbbb-4df2-ae4d-a96df763eed5",
   "metadata": {},
   "outputs": [
    {
     "name": "stdout",
     "output_type": "stream",
     "text": [
      "greatness\n",
      "on\n",
      "different\n",
      "level\n",
      "['GREATNESS', 'ON', 'DIFFERENT', 'LEVEL']\n"
     ]
    }
   ],
   "source": [
    "l=[\"greatness\",\"on\",\"different\",\"level\"]\n",
    "m=[]\n",
    "for n in l:\n",
    "    print(n)\n",
    "    m.append(n.upper())\n",
    "print(m)"
   ]
  },
  {
   "cell_type": "code",
   "execution_count": 7,
   "id": "7787ec78-7ff9-4868-ad81-38b164c36af9",
   "metadata": {},
   "outputs": [
    {
     "name": "stdout",
     "output_type": "stream",
     "text": [
      "[1, 2, 3, 4, 231.25, 220]\n",
      "['don', 'carlo', 'goat']\n"
     ]
    }
   ],
   "source": [
    "l=[1,2,3,4,\"don\",\"carlo\",231.25,220,\"goat\"]\n",
    "x=[]\n",
    "y=[]\n",
    "for a in l:\n",
    "    if type(a) is int or type(a) is float:\n",
    "        x.append(a)\n",
    "    else:\n",
    "        y.append(a)\n",
    "print(x)\n",
    "print(y)"
   ]
  },
  {
   "cell_type": "code",
   "execution_count": null,
   "id": "4cb2a64c-43af-4c18-99e5-0f99f8894b66",
   "metadata": {},
   "outputs": [],
   "source": []
  }
 ],
 "metadata": {
  "kernelspec": {
   "display_name": "Python 3 (ipykernel)",
   "language": "python",
   "name": "python3"
  },
  "language_info": {
   "codemirror_mode": {
    "name": "ipython",
    "version": 3
   },
   "file_extension": ".py",
   "mimetype": "text/x-python",
   "name": "python",
   "nbconvert_exporter": "python",
   "pygments_lexer": "ipython3",
   "version": "3.10.8"
  }
 },
 "nbformat": 4,
 "nbformat_minor": 5
}
